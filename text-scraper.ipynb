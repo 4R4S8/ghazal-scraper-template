{
 "cells": [
  {
   "cell_type": "code",
   "execution_count": 13,
   "metadata": {},
   "outputs": [],
   "source": [
    "from bs4 import BeautifulSoup\n",
    "import requests\n",
    "from selenium import webdriver"
   ]
  },
  {
   "cell_type": "code",
   "execution_count": 4,
   "metadata": {},
   "outputs": [
    {
     "data": {
      "text/plain": [
       "\"c:\\\\Users\\\\4R4S8\\\\Desktop\\\\PYTHON\\\\Data Scraping ⛏\\\\[TEMPLATES]\\\\Jenab-e-Sa'adi\""
      ]
     },
     "execution_count": 4,
     "metadata": {},
     "output_type": "execute_result"
    }
   ],
   "source": [
    "import os\n",
    "cwd = os.getcwd()\n",
    "\n",
    "cwd"
   ]
  },
  {
   "cell_type": "markdown",
   "metadata": {},
   "source": [
    "متغیر ها"
   ]
  },
  {
   "cell_type": "code",
   "execution_count": 3,
   "metadata": {},
   "outputs": [],
   "source": [
    "first_ghazal_number = 0 # => 1\n",
    "last_ghazal_number = 0 # => 637\n",
    "ghazal_link_template = '' # => https://ganjoor.net/saadi/divan/ghazals/sh\n",
    "write_in_single_file = True # True = نوشتن همه ی غزل ها در یک فایل  False = نوشتن تک تکی غزل ها"
   ]
  },
  {
   "cell_type": "markdown",
   "metadata": {},
   "source": [
    "برای نوشتن هر غزل در یک فایل جداگانه👇"
   ]
  },
  {
   "cell_type": "code",
   "execution_count": 14,
   "metadata": {},
   "outputs": [],
   "source": [
    "def write_to_multiple_txt(text_list, filename):\n",
    "    \"\"\"Writes a list of strings to a text file.\n",
    "\n",
    "    Args:\n",
    "        text_list: A list of strings to be written to the file.\n",
    "        filename: The name of the output text file.\n",
    "    \"\"\"\n",
    "    file_path = os.path.join(cwd,'ghazal-ha-text',filename)\n",
    "    try:\n",
    "        with open(file_path, 'w', encoding='utf-8') as file:\n",
    "            for line in text_list:\n",
    "                file.write(line + '\\n')\n",
    "        print(f\"Text written to {file_path} successfully.\")\n",
    "    except IOError:\n",
    "        print(f\"Error writing to file: {file_path}\")"
   ]
  },
  {
   "cell_type": "markdown",
   "metadata": {},
   "source": [
    "برای نوشتن غزل ها در یک فایل 👇"
   ]
  },
  {
   "cell_type": "code",
   "execution_count": null,
   "metadata": {},
   "outputs": [],
   "source": [
    "def write_to_single_txt(text_list, filename):\n",
    "    \"\"\"Writes a list of strings to a text file, appending new lines.\n",
    "\n",
    "    Args:\n",
    "        text_list: A list of strings to be written to the file.\n",
    "        filename: The name of the output text file.\n",
    "    \"\"\"\n",
    "    file_path = os.path.join(cwd,'ghazal-ha-text',filename)\n",
    "    try:\n",
    "        with open(file_path, 'a', encoding='utf-8') as file:\n",
    "            for line in text_list:\n",
    "                file.write(line + '\\n')\n",
    "        print(f\"Text appended to {file_path} successfully.\")\n",
    "    except IOError:\n",
    "        print(f\"Error writing to file: {file_path}\")"
   ]
  },
  {
   "cell_type": "markdown",
   "metadata": {},
   "source": [
    "اضافه کردن لینک غزل ها مثلا = https://ganjoor.net/saadi/divan/ghazals/sh{ghagzal_number}"
   ]
  },
  {
   "cell_type": "code",
   "execution_count": 15,
   "metadata": {},
   "outputs": [],
   "source": [
    "def generate_new_soup(ghagzal_number):  \n",
    "    url = ghazal_link_template+ghagzal_number\n",
    "    print(url)\n",
    "    response = requests.get(url)\n",
    "\n",
    "    if response.status_code == 200:\n",
    "        soup = BeautifulSoup(response.content, 'html.parser')\n",
    "        print(\"Fresh soup is ready!\")\n",
    "        return soup\n",
    "    else:\n",
    "        print(f\"Error fetching URL: {response.status_code}\")"
   ]
  },
  {
   "cell_type": "code",
   "execution_count": 16,
   "metadata": {},
   "outputs": [],
   "source": [
    "def get_ghazal_name(soup):\n",
    "    # Find the h2 element\n",
    "    h2_element = soup.find('article')\n",
    "\n",
    "    # Find the anchor tag within the h2 element\n",
    "    a_element = h2_element.findAll('a')\n",
    "\n",
    "    # Extract the text from the anchor tag\n",
    "    # extracted_text = a_element\n",
    "\n",
    "    # print(h2_element)\n",
    "    ghazal_name=a_element[3].text.strip()\n",
    "    print(ghazal_name)\n",
    "    \n",
    "    return ghazal_name\n"
   ]
  },
  {
   "cell_type": "code",
   "execution_count": 17,
   "metadata": {},
   "outputs": [],
   "source": [
    "def get_ghazal_text(soup):\n",
    "    divs = soup.find('article')\n",
    "    abyat_text = []\n",
    "    for abyat in divs.findAll('p'):\n",
    "        abyat_text.append(abyat.text)\n",
    "    print(abyat_text)\n",
    "    return abyat_text"
   ]
  },
  {
   "cell_type": "markdown",
   "metadata": {},
   "source": [
    "\n",
    "مشخص کردن بازه غزل ها برای استفاده در لینک\n"
   ]
  },
  {
   "cell_type": "code",
   "execution_count": null,
   "metadata": {},
   "outputs": [],
   "source": [
    "\n",
    "for ghazal in range(first_ghazal_number,last_ghazal_number):\n",
    "    soup = generate_new_soup(str(ghazal))\n",
    "    abyat_text = get_ghazal_text(soup)\n",
    "    if write_in_single_file == True:\n",
    "        ghazal_name='ghazal_texts'\n",
    "        write_to_single_txt(abyat_text,ghazal_name+'.txt')\n",
    "    else:  \n",
    "        ghazal_name = f'ghazal_{ghazal:03d}' \n",
    "        write_to_multiple_txt(abyat_text,ghazal_name+'.txt')   "
   ]
  }
 ],
 "metadata": {
  "kernelspec": {
   "display_name": "Python 3",
   "language": "python",
   "name": "python3"
  },
  "language_info": {
   "codemirror_mode": {
    "name": "ipython",
    "version": 3
   },
   "file_extension": ".py",
   "mimetype": "text/x-python",
   "name": "python",
   "nbconvert_exporter": "python",
   "pygments_lexer": "ipython3",
   "version": "3.12.3"
  }
 },
 "nbformat": 4,
 "nbformat_minor": 2
}
